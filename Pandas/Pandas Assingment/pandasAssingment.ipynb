{
 "cells": [
  {
   "cell_type": "code",
   "execution_count": 3,
   "id": "458f5594",
   "metadata": {},
   "outputs": [],
   "source": [
    "#Q1. Create a Pandas Series that contains the following data: 4, 8, 15, 16, 23, and 42. Then, print the series."
   ]
  },
  {
   "cell_type": "code",
   "execution_count": 4,
   "id": "549c2404",
   "metadata": {},
   "outputs": [
    {
     "name": "stdout",
     "output_type": "stream",
     "text": [
      "0     4\n",
      "1     8\n",
      "2    15\n",
      "3    16\n",
      "4    23\n",
      "5    42\n",
      "dtype: int64\n"
     ]
    }
   ],
   "source": [
    "import pandas as pd\n",
    "\n",
    "data = [4, 8, 15, 16, 23, 42]\n",
    "my_series = pd.Series(data)\n",
    "\n",
    "# Print the series\n",
    "print(my_series)\n"
   ]
  },
  {
   "cell_type": "code",
   "execution_count": 5,
   "id": "58ef498f",
   "metadata": {},
   "outputs": [],
   "source": [
    "#Q2. Create a variable of list type containing 10 elements in it, and apply pandas.Series function on the variable print it."
   ]
  },
  {
   "cell_type": "code",
   "execution_count": 6,
   "id": "8411aa59",
   "metadata": {},
   "outputs": [
    {
     "name": "stdout",
     "output_type": "stream",
     "text": [
      "0     1\n",
      "1     2\n",
      "2     3\n",
      "3     4\n",
      "4     5\n",
      "5     6\n",
      "6     7\n",
      "7     8\n",
      "8     9\n",
      "9    10\n",
      "dtype: int64\n"
     ]
    }
   ],
   "source": [
    "import pandas as pd\n",
    "\n",
    "my_list = [1, 2, 3, 4, 5, 6, 7, 8, 9, 10]\n",
    "\n",
    "my_series = pd.Series(my_list)\n",
    "\n",
    "print(my_series)\n"
   ]
  },
  {
   "cell_type": "code",
   "execution_count": 8,
   "id": "312599f6",
   "metadata": {},
   "outputs": [],
   "source": [
    "#Q3. Create a Pandas DataFrame that contains the following data:"
   ]
  },
  {
   "cell_type": "code",
   "execution_count": 9,
   "id": "1d13fbdb",
   "metadata": {},
   "outputs": [
    {
     "name": "stdout",
     "output_type": "stream",
     "text": [
      "     Name  Age  Gender\n",
      "0   Alice   25  Female\n",
      "1     Bob   30    Male\n",
      "2  Claire   27  Female\n"
     ]
    }
   ],
   "source": [
    "import pandas as pd\n",
    "\n",
    "data = {'Name': ['Alice', 'Bob', 'Claire'],'Age': [25, 30, 27],'Gender': ['Female', 'Male', 'Female']}\n",
    "\n",
    "df = pd.DataFrame(data)\n",
    "\n",
    "print(df)\n"
   ]
  },
  {
   "cell_type": "code",
   "execution_count": 10,
   "id": "ea8766af",
   "metadata": {},
   "outputs": [],
   "source": [
    "#Q4. What is ‘DataFrame’ in pandas and how is it different from pandas.series? Explain with an example."
   ]
  },
  {
   "cell_type": "code",
   "execution_count": 11,
   "id": "c820ee50",
   "metadata": {},
   "outputs": [
    {
     "data": {
      "text/plain": [
       "'\\nIn Pandas, a DataFrame is a two-dimensional, tabular data structure with labeled axes (rows and columns). It is similar to a spreadsheet or SQL table, where data is arranged in rows and columns. Each column in a DataFrame can be of a different data type, and it allows for the efficient handling and manipulation of structured data.\\n\\nOn the other hand, a Series is a one-dimensional labeled array in Pandas. It is essentially a single column of a DataFrame. A DataFrame is a collection of Series, and you can think of a DataFrame as a container for Series objects.'"
      ]
     },
     "execution_count": 11,
     "metadata": {},
     "output_type": "execute_result"
    }
   ],
   "source": [
    "'''\n",
    "In Pandas, a DataFrame is a two-dimensional, tabular data structure with labeled axes (rows and columns). It is similar to a spreadsheet or SQL table, where data is arranged in rows and columns. Each column in a DataFrame can be of a different data type, and it allows for the efficient handling and manipulation of structured data.\n",
    "\n",
    "On the other hand, a Series is a one-dimensional labeled array in Pandas. It is essentially a single column of a DataFrame. A DataFrame is a collection of Series, and you can think of a DataFrame as a container for Series objects.'''"
   ]
  },
  {
   "cell_type": "code",
   "execution_count": 12,
   "id": "7e3bd3c7",
   "metadata": {},
   "outputs": [
    {
     "name": "stdout",
     "output_type": "stream",
     "text": [
      "Series:\n",
      "0    10\n",
      "1    20\n",
      "2    30\n",
      "3    40\n",
      "Name: Numbers, dtype: int64\n",
      "\n",
      "DataFrame:\n",
      "   Numbers  Squared\n",
      "0       10      100\n",
      "1       20      400\n",
      "2       30      900\n",
      "3       40     1600\n"
     ]
    }
   ],
   "source": [
    "import pandas as pd\n",
    "\n",
    "series_data = pd.Series([10, 20, 30, 40], name='Numbers')\n",
    "\n",
    "# Creating a DataFrame with a single column\n",
    "df = pd.DataFrame(series_data)\n",
    "\n",
    "# Adding another column to the DataFrame\n",
    "df['Squared'] = df['Numbers'] ** 2\n",
    "\n",
    "# Printing the Series\n",
    "print(\"Series:\")\n",
    "print(series_data)\n",
    "print(\"\\nDataFrame:\")\n",
    "print(df)\n"
   ]
  },
  {
   "cell_type": "code",
   "execution_count": 13,
   "id": "6ba9f0dd",
   "metadata": {},
   "outputs": [
    {
     "data": {
      "text/plain": [
       "\"In this example, I first create a Series named 'Numbers' containing four elements. Then, I create a DataFrame df with a single column 'Numbers'. I can perform operations on this DataFrame, such as squaring the values and adding a new column 'Squared'. The output will show the difference between a standalone Series and a DataFrame containing a Series.\""
      ]
     },
     "execution_count": 13,
     "metadata": {},
     "output_type": "execute_result"
    }
   ],
   "source": [
    "'''In this example, I first create a Series named 'Numbers' containing four elements. Then, I create a DataFrame df with a single column 'Numbers'. I can perform operations on this DataFrame, such as squaring the values and adding a new column 'Squared'. The output will show the difference between a standalone Series and a DataFrame containing a Series.'''"
   ]
  },
  {
   "cell_type": "code",
   "execution_count": 14,
   "id": "f72e9cd5",
   "metadata": {},
   "outputs": [],
   "source": [
    "#Q5. What are some common functions you can use to manipulate data in a Pandas DataFrame? Can you give an example of when you might use one of these functions?"
   ]
  },
  {
   "cell_type": "code",
   "execution_count": 17,
   "id": "a6887c41",
   "metadata": {},
   "outputs": [
    {
     "name": "stdout",
     "output_type": "stream",
     "text": [
      "Original DataFrame:\n",
      "     Name  Age  Gender\n",
      "0   Alice   25  Female\n",
      "1     Bob   30    Male\n",
      "2  Claire   27  Female\n",
      "\n",
      "Top 2 rows:\n",
      "    Name  Age  Gender\n",
      "0  Alice   25  Female\n",
      "1    Bob   30    Male\n",
      "\n",
      "Summary statistics:\n",
      "             Age\n",
      "count   3.000000\n",
      "mean   27.333333\n",
      "std     2.516611\n",
      "min    25.000000\n",
      "25%    26.000000\n",
      "50%    27.000000\n",
      "75%    28.500000\n",
      "max    30.000000\n",
      "\n",
      "DataFrame information:\n",
      "<class 'pandas.core.frame.DataFrame'>\n",
      "RangeIndex: 3 entries, 0 to 2\n",
      "Data columns (total 3 columns):\n",
      " #   Column  Non-Null Count  Dtype \n",
      "---  ------  --------------  ----- \n",
      " 0   Name    3 non-null      object\n",
      " 1   Age     3 non-null      int64 \n",
      " 2   Gender  3 non-null      object\n",
      "dtypes: int64(1), object(2)\n",
      "memory usage: 200.0+ bytes\n",
      "None\n",
      "\n",
      "Sorted by Age in descending order:\n",
      "     Name  Age  Gender\n",
      "1     Bob   30    Male\n",
      "2  Claire   27  Female\n",
      "0   Alice   25  Female\n",
      "\n",
      "Mean age by gender:\n",
      "Gender\n",
      "Female    26.0\n",
      "Male      30.0\n",
      "Name: Age, dtype: float64\n",
      "\n",
      "Double the Age using apply:\n",
      "     Name  Age  Gender\n",
      "0   Alice   50  Female\n",
      "1     Bob   60    Male\n",
      "2  Claire   54  Female\n",
      "\n",
      "Drop the 'Gender' column:\n",
      "     Name  Age\n",
      "0   Alice   50\n",
      "1     Bob   60\n",
      "2  Claire   54\n",
      "\n",
      "Fill missing values with 0:\n",
      "     Name  Age\n",
      "0   Alice   50\n",
      "1     Bob   60\n",
      "2  Claire   54\n",
      "\n",
      "Pivot table based on 'Name':\n",
      "        Age\n",
      "Name       \n",
      "Alice    50\n",
      "Bob      60\n",
      "Claire   54\n",
      "\n",
      "Merging with another DataFrame:\n",
      "Empty DataFrame\n",
      "Columns: [Name, Age_x, Age_y, Gender]\n",
      "Index: []\n"
     ]
    }
   ],
   "source": [
    "import pandas as pd\n",
    "\n",
    "# here i Create a sample DataFrame\n",
    "data = {'Name': ['Alice', 'Bob', 'Claire'],\n",
    "        'Age': [25, 30, 27],\n",
    "        'Gender': ['Female', 'Male', 'Female']}\n",
    "\n",
    "df = pd.DataFrame(data)\n",
    "\n",
    "# Display the DataFrame\n",
    "print(\"Original DataFrame:\")\n",
    "print(df)\n",
    "\n",
    "# 1. head() and tail()\n",
    "print(\"\\nTop 2 rows:\")\n",
    "print(df.head(2))\n",
    "\n",
    "# 2. describe()\n",
    "print(\"\\nSummary statistics:\")\n",
    "print(df.describe())\n",
    "\n",
    "# 3. info()\n",
    "print(\"\\nDataFrame information:\")\n",
    "print(df.info())\n",
    "\n",
    "# 4. sort_values()\n",
    "print(\"\\nSorted by Age in descending order:\")\n",
    "print(df.sort_values(by='Age', ascending=False))\n",
    "\n",
    "# 5. groupby()\n",
    "print(\"\\nMean age by gender:\")\n",
    "print(df.groupby('Gender')['Age'].mean())\n",
    "\n",
    "# 6. apply()\n",
    "print(\"\\nDouble the Age using apply:\")\n",
    "df['Age'] = df['Age'].apply(lambda x: x * 2)\n",
    "print(df)\n",
    "\n",
    "# 7. drop()\n",
    "print(\"\\nDrop the 'Gender' column:\")\n",
    "df.drop(['Gender'], axis=1, inplace=True)\n",
    "print(df)\n",
    "\n",
    "# 8. fillna()\n",
    "print(\"\\nFill missing values with 0:\")\n",
    "df.fillna(0, inplace=True)\n",
    "print(df)\n",
    "\n",
    "# 9. pivot_table() - Use 'Name' instead of 'Gender'\n",
    "print(\"\\nPivot table based on 'Name':\")\n",
    "pivot_table = pd.pivot_table(df, values='Age', index='Name', aggfunc='mean')\n",
    "print(pivot_table)\n",
    "\n",
    "# 10. merge() - Creating another DataFrame for merging\n",
    "df2 = pd.DataFrame({'Name': ['David', 'Emma'],\n",
    "                    'Age': [22, 35],\n",
    "                    'Gender': ['Male', 'Female']})\n",
    "\n",
    "print(\"\\nMerging with another DataFrame:\")\n",
    "merged_df = pd.merge(df, df2, on='Name')\n",
    "print(merged_df)\n"
   ]
  },
  {
   "cell_type": "code",
   "execution_count": 18,
   "id": "74e8f39a",
   "metadata": {},
   "outputs": [],
   "source": [
    "#Q6. Which of the following is mutable in nature Series, DataFrame, Panel?"
   ]
  },
  {
   "cell_type": "code",
   "execution_count": 19,
   "id": "2982b322",
   "metadata": {},
   "outputs": [
    {
     "data": {
      "text/plain": [
       "'Among the options provided (Series, DataFrame, Panel), DataFrame is mutable in nature.\\n\\nSeries: A pandas Series is immutable. Once a Series is created, you cannot modify its elements. You can, however, modify the Series by assigning a new value to the entire Series.\\n\\nDataFrame: A pandas DataFrame is mutable. You can add, remove, or modify columns and rows in a DataFrame after it is created.\\n\\nPanel: Panels were used in earlier versions of pandas to handle 3D data, but they have been deprecated as of pandas version 0.25.0. You should use MultiIndex DataFrames or Panel-like 3D structures using the xarray library instead.'"
      ]
     },
     "execution_count": 19,
     "metadata": {},
     "output_type": "execute_result"
    }
   ],
   "source": [
    "'''Among the options provided (Series, DataFrame, Panel), DataFrame is mutable in nature.\n",
    "\n",
    "Series: A pandas Series is immutable. Once a Series is created, you cannot modify its elements. You can, however, modify the Series by assigning a new value to the entire Series.\n",
    "\n",
    "DataFrame: A pandas DataFrame is mutable. You can add, remove, or modify columns and rows in a DataFrame after it is created.\n",
    "\n",
    "Panel: Panels were used in earlier versions of pandas to handle 3D data, but they have been deprecated as of pandas version 0.25.0. You should use MultiIndex DataFrames or Panel-like 3D structures using the xarray library instead.'''"
   ]
  },
  {
   "cell_type": "code",
   "execution_count": 20,
   "id": "d4327423",
   "metadata": {},
   "outputs": [],
   "source": [
    "#Q7. Create a DataFrame using multiple Series. Explain with an example."
   ]
  },
  {
   "cell_type": "code",
   "execution_count": 21,
   "id": "188f88fd",
   "metadata": {},
   "outputs": [
    {
     "name": "stdout",
     "output_type": "stream",
     "text": [
      "     Name  Age  Gender\n",
      "0   Alice   25  Female\n",
      "1     Bob   30    Male\n",
      "2  Claire   27  Female\n"
     ]
    }
   ],
   "source": [
    "import pandas as pd\n",
    "\n",
    "# here i created multiple Series\n",
    "name_series = pd.Series(['Alice', 'Bob', 'Claire'], name='Name')\n",
    "age_series = pd.Series([25, 30, 27], name='Age')\n",
    "gender_series = pd.Series(['Female', 'Male', 'Female'], name='Gender')\n",
    "\n",
    "# Combining Series into a dictionary\n",
    "data = {'Name': name_series, 'Age': age_series, 'Gender': gender_series}\n",
    "\n",
    "# Creating a DataFrame from the dictionary\n",
    "df = pd.DataFrame(data)\n",
    "\n",
    "print(df)\n"
   ]
  },
  {
   "cell_type": "code",
   "execution_count": 22,
   "id": "eddcbfbc",
   "metadata": {},
   "outputs": [
    {
     "data": {
      "text/plain": [
       "'name_series, age_series, and gender_series are three different Series. The dictionary data is created with keys as column names and values as corresponding Series. Finally, a DataFrame (df) is created from the dictionary. Each Series becomes a column in the DataFrame.'"
      ]
     },
     "execution_count": 22,
     "metadata": {},
     "output_type": "execute_result"
    }
   ],
   "source": [
    "'''name_series, age_series, and gender_series are three different Series. The dictionary data is created with keys as column names and values as corresponding Series. Finally, a DataFrame (df) is created from the dictionary. Each Series becomes a column in the DataFrame.'''"
   ]
  },
  {
   "cell_type": "code",
   "execution_count": null,
   "id": "d84d74c5",
   "metadata": {},
   "outputs": [],
   "source": []
  }
 ],
 "metadata": {
  "kernelspec": {
   "display_name": "Python 3 (ipykernel)",
   "language": "python",
   "name": "python3"
  },
  "language_info": {
   "codemirror_mode": {
    "name": "ipython",
    "version": 3
   },
   "file_extension": ".py",
   "mimetype": "text/x-python",
   "name": "python",
   "nbconvert_exporter": "python",
   "pygments_lexer": "ipython3",
   "version": "3.9.7"
  }
 },
 "nbformat": 4,
 "nbformat_minor": 5
}
